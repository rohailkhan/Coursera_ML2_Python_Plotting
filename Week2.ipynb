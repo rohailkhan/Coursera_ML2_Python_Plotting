{
  "nbformat": 4,
  "nbformat_minor": 0,
  "metadata": {
    "kernelspec": {
      "display_name": "Python 3",
      "language": "python",
      "name": "python3"
    },
    "language_info": {
      "codemirror_mode": {
        "name": "ipython",
        "version": 3
      },
      "file_extension": ".py",
      "mimetype": "text/x-python",
      "name": "python",
      "nbconvert_exporter": "python",
      "pygments_lexer": "ipython3",
      "version": "3.6.2"
    },
    "colab": {
      "name": "Week2.ipynb",
      "provenance": [],
      "include_colab_link": true
    }
  },
  "cells": [
    {
      "cell_type": "markdown",
      "metadata": {
        "id": "view-in-github",
        "colab_type": "text"
      },
      "source": [
        "<a href=\"https://colab.research.google.com/github/rohailkhan/Coursera_ML2_Python_Plotting/blob/master/Week2.ipynb\" target=\"_parent\"><img src=\"https://colab.research.google.com/assets/colab-badge.svg\" alt=\"Open In Colab\"/></a>"
      ]
    },
    {
      "cell_type": "markdown",
      "metadata": {
        "id": "mAdux1kx8XdU",
        "colab_type": "text"
      },
      "source": [
        "# Basic Plotting with matplotlib"
      ]
    },
    {
      "cell_type": "markdown",
      "metadata": {
        "id": "kCzqJa278Xdc",
        "colab_type": "text"
      },
      "source": [
        "You can show matplotlib figures directly in the notebook by using the `%matplotlib notebook` and `%matplotlib inline` magic commands. \n",
        "\n",
        "`%matplotlib notebook` provides an interactive environment."
      ]
    },
    {
      "cell_type": "code",
      "metadata": {
        "id": "242LlRj_8Xdk",
        "colab_type": "code",
        "colab": {}
      },
      "source": [
        "%matplotlib notebook"
      ],
      "execution_count": null,
      "outputs": []
    },
    {
      "cell_type": "code",
      "metadata": {
        "id": "iHkz2a3L8XeO",
        "colab_type": "code",
        "colab": {}
      },
      "source": [
        "import matplotlib as mpl\n",
        "mpl.get_backend()"
      ],
      "execution_count": null,
      "outputs": []
    },
    {
      "cell_type": "code",
      "metadata": {
        "id": "uHRRwM2a8Xel",
        "colab_type": "code",
        "colab": {}
      },
      "source": [
        "import matplotlib.pyplot as plt\n",
        "plt.plot?"
      ],
      "execution_count": null,
      "outputs": []
    },
    {
      "cell_type": "code",
      "metadata": {
        "id": "Qxa-vfd28Xe8",
        "colab_type": "code",
        "colab": {}
      },
      "source": [
        "# because the default is the line style '-', \n",
        "# nothing will be shown if we only pass in one point (3,2)\n",
        "plt.plot(3, 2)"
      ],
      "execution_count": null,
      "outputs": []
    },
    {
      "cell_type": "code",
      "metadata": {
        "id": "qoo3RhqL8XfQ",
        "colab_type": "code",
        "colab": {}
      },
      "source": [
        "# we can pass in '.' to plt.plot to indicate that we want\n",
        "# the point (3,2) to be indicated with a marker '.'\n",
        "plt.plot(3, 2, '.')"
      ],
      "execution_count": null,
      "outputs": []
    },
    {
      "cell_type": "markdown",
      "metadata": {
        "id": "RjzqPhCD8Xfo",
        "colab_type": "text"
      },
      "source": [
        "Let's see how to make a plot without using the scripting layer."
      ]
    },
    {
      "cell_type": "code",
      "metadata": {
        "id": "-rfbwXzI8Xft",
        "colab_type": "code",
        "colab": {}
      },
      "source": [
        "# First let's set the backend without using mpl.use() from the scripting layer\n",
        "from matplotlib.backends.backend_agg import FigureCanvasAgg\n",
        "from matplotlib.figure import Figure\n",
        "\n",
        "# create a new figure\n",
        "fig = Figure()\n",
        "\n",
        "# associate fig with the backend\n",
        "canvas = FigureCanvasAgg(fig)\n",
        "\n",
        "# add a subplot to the fig\n",
        "ax = fig.add_subplot(111)\n",
        "\n",
        "# plot the point (3,2)\n",
        "ax.plot(3, 2, '.')\n",
        "\n",
        "# save the figure to test.png\n",
        "# you can see this figure in your Jupyter workspace afterwards by going to\n",
        "# https://hub.coursera-notebooks.org/\n",
        "canvas.print_png('test.png')"
      ],
      "execution_count": null,
      "outputs": []
    },
    {
      "cell_type": "markdown",
      "metadata": {
        "id": "__SNk3XC8XgN",
        "colab_type": "text"
      },
      "source": [
        "We can use html cell magic to display the image."
      ]
    },
    {
      "cell_type": "code",
      "metadata": {
        "id": "mQCxcmAU8XgQ",
        "colab_type": "code",
        "colab": {}
      },
      "source": [
        "%%html\n",
        "<img src='test.png' />"
      ],
      "execution_count": null,
      "outputs": []
    },
    {
      "cell_type": "code",
      "metadata": {
        "id": "zKBAWOLO8Xgf",
        "colab_type": "code",
        "colab": {}
      },
      "source": [
        "# create a new figure\n",
        "plt.figure()\n",
        "\n",
        "# plot the point (3,2) using the circle marker\n",
        "plt.plot(3, 2, 'o')\n",
        "\n",
        "# get the current axes\n",
        "ax = plt.gca()\n",
        "\n",
        "# Set axis properties [xmin, xmax, ymin, ymax]\n",
        "ax.axis([0,6,0,10])"
      ],
      "execution_count": null,
      "outputs": []
    },
    {
      "cell_type": "code",
      "metadata": {
        "id": "wIsRmNrP8Xgx",
        "colab_type": "code",
        "colab": {}
      },
      "source": [
        "# create a new figure\n",
        "plt.figure()\n",
        "\n",
        "# plot the point (1.5, 1.5) using the circle marker\n",
        "plt.plot(1.5, 1.5, 'o')\n",
        "# plot the point (2, 2) using the circle marker\n",
        "plt.plot(2, 2, 'o')\n",
        "# plot the point (2.5, 2.5) using the circle marker\n",
        "plt.plot(2.5, 2.5, 'o')"
      ],
      "execution_count": null,
      "outputs": []
    },
    {
      "cell_type": "code",
      "metadata": {
        "id": "Dunhn6eU8XhB",
        "colab_type": "code",
        "colab": {}
      },
      "source": [
        "# get current axes\n",
        "ax = plt.gca()\n",
        "# get all the child objects the axes contains\n",
        "ax.get_children()"
      ],
      "execution_count": null,
      "outputs": []
    },
    {
      "cell_type": "markdown",
      "metadata": {
        "id": "FALeRfP-8XhR",
        "colab_type": "text"
      },
      "source": [
        "# Scatterplots"
      ]
    },
    {
      "cell_type": "code",
      "metadata": {
        "scrolled": false,
        "id": "q5ITSfiW8XhV",
        "colab_type": "code",
        "colab": {}
      },
      "source": [
        "import numpy as np\n",
        "\n",
        "x = np.array([1,2,3,4,5,6,7,8])\n",
        "y = x\n",
        "\n",
        "plt.figure()\n",
        "plt.scatter(x, y) # similar to plt.plot(x, y, '.'), but the underlying child objects in the axes are not Line2D"
      ],
      "execution_count": null,
      "outputs": []
    },
    {
      "cell_type": "code",
      "metadata": {
        "id": "svS3HXcJ8Xhl",
        "colab_type": "code",
        "colab": {}
      },
      "source": [
        "import numpy as np\n",
        "\n",
        "x = np.array([1,2,3,4,5,6,7,8])\n",
        "y = x\n",
        "\n",
        "# create a list of colors for each point to have\n",
        "# ['green', 'green', 'green', 'green', 'green', 'green', 'green', 'red']\n",
        "colors = ['green']*(len(x)-1)\n",
        "colors.append('red')\n",
        "\n",
        "plt.figure()\n",
        "\n",
        "# plot the point with size 100 and chosen colors\n",
        "plt.scatter(x, y, s=100, c=colors)"
      ],
      "execution_count": null,
      "outputs": []
    },
    {
      "cell_type": "code",
      "metadata": {
        "id": "ARqlBtt68Xh6",
        "colab_type": "code",
        "colab": {}
      },
      "source": [
        "# convert the two lists into a list of pairwise tuples\n",
        "zip_generator = zip([1,2,3,4,5], [6,7,8,9,10])\n",
        "\n",
        "print(list(zip_generator))\n",
        "# the above prints:\n",
        "# [(1, 6), (2, 7), (3, 8), (4, 9), (5, 10)]\n",
        "\n",
        "zip_generator = zip([1,2,3,4,5], [6,7,8,9,10])\n",
        "# The single star * unpacks a collection into positional arguments\n",
        "print(*zip_generator)\n",
        "# the above prints:\n",
        "# (1, 6) (2, 7) (3, 8) (4, 9) (5, 10)"
      ],
      "execution_count": null,
      "outputs": []
    },
    {
      "cell_type": "code",
      "metadata": {
        "id": "2k8vMUKC8XiH",
        "colab_type": "code",
        "colab": {}
      },
      "source": [
        "# use zip to convert 5 tuples with 2 elements each to 2 tuples with 5 elements each\n",
        "print(list(zip((1, 6), (2, 7), (3, 8), (4, 9), (5, 10))))\n",
        "# the above prints:\n",
        "# [(1, 2, 3, 4, 5), (6, 7, 8, 9, 10)]\n",
        "\n",
        "\n",
        "zip_generator = zip([1,2,3,4,5], [6,7,8,9,10])\n",
        "# let's turn the data back into 2 lists\n",
        "x, y = zip(*zip_generator) # This is like calling zip((1, 6), (2, 7), (3, 8), (4, 9), (5, 10))\n",
        "print(x)\n",
        "print(y)\n",
        "# the above prints:\n",
        "# (1, 2, 3, 4, 5)\n",
        "# (6, 7, 8, 9, 10)"
      ],
      "execution_count": null,
      "outputs": []
    },
    {
      "cell_type": "code",
      "metadata": {
        "id": "QWUtkPtV8XiW",
        "colab_type": "code",
        "colab": {}
      },
      "source": [
        "plt.figure()\n",
        "# plot a data series 'Tall students' in red using the first two elements of x and y\n",
        "plt.scatter(x[:2], y[:2], s=100, c='red', label='Tall students')\n",
        "# plot a second data series 'Short students' in blue using the last three elements of x and y \n",
        "plt.scatter(x[2:], y[2:], s=100, c='blue', label='Short students')"
      ],
      "execution_count": null,
      "outputs": []
    },
    {
      "cell_type": "code",
      "metadata": {
        "id": "iLUuTQh68Xij",
        "colab_type": "code",
        "colab": {}
      },
      "source": [
        "# add a label to the x axis\n",
        "plt.xlabel('The number of times the child kicked a ball')\n",
        "# add a label to the y axis\n",
        "plt.ylabel('The grade of the student')\n",
        "# add a title\n",
        "plt.title('Relationship between ball kicking and grades')"
      ],
      "execution_count": null,
      "outputs": []
    },
    {
      "cell_type": "code",
      "metadata": {
        "id": "ljq0PNtf8Xiv",
        "colab_type": "code",
        "colab": {}
      },
      "source": [
        "# add a legend (uses the labels from plt.scatter)\n",
        "plt.legend()"
      ],
      "execution_count": null,
      "outputs": []
    },
    {
      "cell_type": "code",
      "metadata": {
        "id": "3V9y3SW68Xi7",
        "colab_type": "code",
        "colab": {}
      },
      "source": [
        "# add the legend to loc=4 (the lower right hand corner), also gets rid of the frame and adds a title\n",
        "plt.legend(loc=4, frameon=False, title='Legend')"
      ],
      "execution_count": null,
      "outputs": []
    },
    {
      "cell_type": "code",
      "metadata": {
        "id": "IEtkLjzn8XjG",
        "colab_type": "code",
        "colab": {}
      },
      "source": [
        "# get children from current axes (the legend is the second to last item in this list)\n",
        "plt.gca().get_children()"
      ],
      "execution_count": null,
      "outputs": []
    },
    {
      "cell_type": "code",
      "metadata": {
        "id": "LU-jGHcz8XjU",
        "colab_type": "code",
        "colab": {}
      },
      "source": [
        "# get the legend from the current axes\n",
        "legend = plt.gca().get_children()[-2]"
      ],
      "execution_count": null,
      "outputs": []
    },
    {
      "cell_type": "code",
      "metadata": {
        "id": "MigmJHAf8Xjk",
        "colab_type": "code",
        "colab": {}
      },
      "source": [
        "# you can use get_children to navigate through the child artists\n",
        "legend.get_children()[0].get_children()[1].get_children()[0].get_children()"
      ],
      "execution_count": null,
      "outputs": []
    },
    {
      "cell_type": "code",
      "metadata": {
        "id": "1kN9XsVE8Xj2",
        "colab_type": "code",
        "colab": {}
      },
      "source": [
        "# import the artist class from matplotlib\n",
        "from matplotlib.artist import Artist\n",
        "\n",
        "def rec_gc(art, depth=0):\n",
        "    if isinstance(art, Artist):\n",
        "        # increase the depth for pretty printing\n",
        "        print(\"  \" * depth + str(art))\n",
        "        for child in art.get_children():\n",
        "            rec_gc(child, depth+2)\n",
        "\n",
        "# Call this function on the legend artist to see what the legend is made up of\n",
        "rec_gc(plt.legend())"
      ],
      "execution_count": null,
      "outputs": []
    },
    {
      "cell_type": "markdown",
      "metadata": {
        "id": "FdOh5UKo8XkB",
        "colab_type": "text"
      },
      "source": [
        "# Line Plots"
      ]
    },
    {
      "cell_type": "code",
      "metadata": {
        "id": "7Dn_-A8i8XkE",
        "colab_type": "code",
        "colab": {}
      },
      "source": [
        "import numpy as np\n",
        "\n",
        "linear_data = np.array([1,2,3,4,5,6,7,8])\n",
        "exponential_data = linear_data**2\n",
        "\n",
        "plt.figure()\n",
        "# plot the linear data and the exponential data\n",
        "plt.plot(linear_data, '-o', exponential_data, '-o')"
      ],
      "execution_count": null,
      "outputs": []
    },
    {
      "cell_type": "code",
      "metadata": {
        "id": "379lKB-i8XkR",
        "colab_type": "code",
        "colab": {}
      },
      "source": [
        "# plot another series with a dashed red line\n",
        "plt.plot([22,44,55], '--r')"
      ],
      "execution_count": null,
      "outputs": []
    },
    {
      "cell_type": "code",
      "metadata": {
        "id": "s-ox0nUi8Xke",
        "colab_type": "code",
        "colab": {}
      },
      "source": [
        "plt.xlabel('Some data')\n",
        "plt.ylabel('Some other data')\n",
        "plt.title('A title')\n",
        "# add a legend with legend entries (because we didn't have labels when we plotted the data series)\n",
        "plt.legend(['Baseline', 'Competition', 'Us'])"
      ],
      "execution_count": null,
      "outputs": []
    },
    {
      "cell_type": "code",
      "metadata": {
        "id": "IU2_zTOo8Xkt",
        "colab_type": "code",
        "colab": {}
      },
      "source": [
        "# fill the area between the linear data and exponential data\n",
        "plt.gca().fill_between(range(len(linear_data)), \n",
        "                       linear_data, exponential_data, \n",
        "                       facecolor='blue', \n",
        "                       alpha=0.25)"
      ],
      "execution_count": null,
      "outputs": []
    },
    {
      "cell_type": "markdown",
      "metadata": {
        "id": "rAdU8OMc8Xk3",
        "colab_type": "text"
      },
      "source": [
        "Let's try working with dates!"
      ]
    },
    {
      "cell_type": "code",
      "metadata": {
        "id": "AT_FA1Le8Xk4",
        "colab_type": "code",
        "colab": {}
      },
      "source": [
        "plt.figure()\n",
        "\n",
        "observation_dates = np.arange('2017-01-01', '2017-01-09', dtype='datetime64[D]')\n",
        "\n",
        "plt.plot(observation_dates, linear_data, '-o',  observation_dates, exponential_data, '-o')"
      ],
      "execution_count": null,
      "outputs": []
    },
    {
      "cell_type": "markdown",
      "metadata": {
        "id": "mzOXLHb88XlE",
        "colab_type": "text"
      },
      "source": [
        "Let's try using pandas"
      ]
    },
    {
      "cell_type": "code",
      "metadata": {
        "id": "831R-sN28XlG",
        "colab_type": "code",
        "colab": {}
      },
      "source": [
        "import pandas as pd\n",
        "\n",
        "plt.figure()\n",
        "observation_dates = np.arange('2017-01-01', '2017-01-09', dtype='datetime64[D]')\n",
        "observation_dates = map(pd.to_datetime, observation_dates) # trying to plot a map will result in an error\n",
        "plt.plot(observation_dates, linear_data, '-o',  observation_dates, exponential_data, '-o')"
      ],
      "execution_count": null,
      "outputs": []
    },
    {
      "cell_type": "code",
      "metadata": {
        "id": "XuSnEAY28XlQ",
        "colab_type": "code",
        "colab": {}
      },
      "source": [
        "plt.figure()\n",
        "observation_dates = np.arange('2017-01-01', '2017-01-09', dtype='datetime64[D]')\n",
        "observation_dates = list(map(pd.to_datetime, observation_dates)) # convert the map to a list to get rid of the error\n",
        "plt.plot(observation_dates, linear_data, '-o',  observation_dates, exponential_data, '-o')"
      ],
      "execution_count": null,
      "outputs": []
    },
    {
      "cell_type": "code",
      "metadata": {
        "id": "v1rV3Q_-8Xlb",
        "colab_type": "code",
        "colab": {}
      },
      "source": [
        "x = plt.gca().xaxis\n",
        "\n",
        "# rotate the tick labels for the x axis\n",
        "for item in x.get_ticklabels():\n",
        "    item.set_rotation(45)"
      ],
      "execution_count": null,
      "outputs": []
    },
    {
      "cell_type": "code",
      "metadata": {
        "id": "absBjOuz8Xlo",
        "colab_type": "code",
        "colab": {}
      },
      "source": [
        "# adjust the subplot so the text doesn't run off the image\n",
        "plt.subplots_adjust(bottom=0.25)"
      ],
      "execution_count": null,
      "outputs": []
    },
    {
      "cell_type": "code",
      "metadata": {
        "id": "-D2YyqPw8Xly",
        "colab_type": "code",
        "colab": {}
      },
      "source": [
        "ax = plt.gca()\n",
        "ax.set_xlabel('Date')\n",
        "ax.set_ylabel('Units')\n",
        "ax.set_title('Exponential vs. Linear performance')"
      ],
      "execution_count": null,
      "outputs": []
    },
    {
      "cell_type": "code",
      "metadata": {
        "id": "Xv9Ia7Fg8Xl8",
        "colab_type": "code",
        "colab": {}
      },
      "source": [
        "# you can add mathematical expressions in any text element\n",
        "ax.set_title(\"Exponential ($x^2$) vs. Linear ($x$) performance\")"
      ],
      "execution_count": null,
      "outputs": []
    },
    {
      "cell_type": "markdown",
      "metadata": {
        "id": "UdnphNWL8XmU",
        "colab_type": "text"
      },
      "source": [
        "# Bar Charts"
      ]
    },
    {
      "cell_type": "code",
      "metadata": {
        "id": "yU8PBdyD8XmX",
        "colab_type": "code",
        "colab": {}
      },
      "source": [
        "plt.figure()\n",
        "xvals = range(len(linear_data))\n",
        "plt.bar(xvals, linear_data, width = 0.3)"
      ],
      "execution_count": null,
      "outputs": []
    },
    {
      "cell_type": "code",
      "metadata": {
        "id": "r3nI3O8g8Xmh",
        "colab_type": "code",
        "colab": {}
      },
      "source": [
        "new_xvals = []\n",
        "\n",
        "# plot another set of bars, adjusting the new xvals to make up for the first set of bars plotted\n",
        "for item in xvals:\n",
        "    new_xvals.append(item+0.3)\n",
        "\n",
        "plt.bar(new_xvals, exponential_data, width = 0.3 ,color='red')"
      ],
      "execution_count": null,
      "outputs": []
    },
    {
      "cell_type": "code",
      "metadata": {
        "scrolled": true,
        "id": "0tBt_0Nz8Xmr",
        "colab_type": "code",
        "colab": {}
      },
      "source": [
        "from random import randint\n",
        "linear_err = [randint(0,15) for x in range(len(linear_data))] \n",
        "\n",
        "# This will plot a new set of bars with errorbars using the list of random error values\n",
        "plt.bar(xvals, linear_data, width = 0.3, yerr=linear_err)"
      ],
      "execution_count": null,
      "outputs": []
    },
    {
      "cell_type": "code",
      "metadata": {
        "id": "1-AVMmXN8Xmz",
        "colab_type": "code",
        "colab": {}
      },
      "source": [
        "# stacked bar charts are also possible\n",
        "plt.figure()\n",
        "xvals = range(len(linear_data))\n",
        "plt.bar(xvals, linear_data, width = 0.3, color='b')\n",
        "plt.bar(xvals, exponential_data, width = 0.3, bottom=linear_data, color='r')"
      ],
      "execution_count": null,
      "outputs": []
    },
    {
      "cell_type": "code",
      "metadata": {
        "id": "Nxjm8E1T8Xm7",
        "colab_type": "code",
        "colab": {}
      },
      "source": [
        "# or use barh for horizontal bar charts\n",
        "plt.figure()\n",
        "xvals = range(len(linear_data))\n",
        "plt.barh(xvals, linear_data, height = 0.3, color='b')\n",
        "plt.barh(xvals, exponential_data, height = 0.3, left=linear_data, color='r')"
      ],
      "execution_count": null,
      "outputs": []
    }
  ]
}